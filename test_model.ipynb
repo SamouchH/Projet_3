{
 "cells": [
  {
   "cell_type": "markdown",
   "id": "4a166a9f",
   "metadata": {},
   "source": [
    "test modéle"
   ]
  },
  {
   "cell_type": "code",
   "execution_count": 2,
   "id": "5ff21352",
   "metadata": {},
   "outputs": [
    {
     "name": "stdout",
     "output_type": "stream",
     "text": [
      "1/1 [==============================] - 1s 930ms/step\n",
      "Classe prédite : Nintendo\n"
     ]
    }
   ],
   "source": [
    "import tensorflow as tf\n",
    "import numpy as np\n",
    "from tensorflow.keras.models import load_model\n",
    "from tensorflow.keras.preprocessing.image import load_img, img_to_array\n",
    "\n",
    "image_path = 'test\\\\Nintendo\\\\image_631246_product_984304.jpg'\n",
    "target_size = (150, 150)\n",
    "model = tf.keras.models.load_model(\"modele_cnn_transfer.h5\")\n",
    "\n",
    "img = load_img(image_path, target_size=target_size) \n",
    "img_array = img_to_array(img)\n",
    "img_array = img_array / 255.0\n",
    "img_array = np.expand_dims(img_array, axis=0)\n",
    "\n",
    "prediction = model.predict(img_array)\n",
    "classes = ['Nintendo', 'PC Gaming' , 'Playstation', 'Xbox']\n",
    "predicted_class_index = np.argmax(prediction)\n",
    "predicted_class = classes[predicted_class_index]\n",
    "\n",
    "print(\"Classe prédite :\", predicted_class)"
   ]
  },
  {
   "cell_type": "code",
   "execution_count": null,
   "id": "62d073a2",
   "metadata": {},
   "outputs": [],
   "source": []
  }
 ],
 "metadata": {
  "kernelspec": {
   "display_name": "Python 3",
   "language": "python",
   "name": "python3"
  },
  "language_info": {
   "codemirror_mode": {
    "name": "ipython",
    "version": 3
   },
   "file_extension": ".py",
   "mimetype": "text/x-python",
   "name": "python",
   "nbconvert_exporter": "python",
   "pygments_lexer": "ipython3",
   "version": "3.11.9"
  }
 },
 "nbformat": 4,
 "nbformat_minor": 5
}
