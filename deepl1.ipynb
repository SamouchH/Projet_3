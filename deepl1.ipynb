{
 "cells": [
  {
   "cell_type": "code",
   "execution_count": 1,
   "metadata": {},
   "outputs": [],
   "source": [
    "import pandas as pd\n",
    "\n",
    "df1 = pd.read_csv(\"Batch_2_train_labels_clean.csv\")\n",
    "df2 = pd.read_csv(\"Batch_1_train_labels_clean.csv\")\n",
    "\n",
    "df3 = pd.read_excel(\"image_labels_batch_3.xlsx\")\n",
    "df4 = pd.read_excel(\"image_labels_batch_4.xlsx\")\n",
    "\n",
    "\n"
   ]
  },
  {
   "cell_type": "code",
   "execution_count": 2,
   "metadata": {},
   "outputs": [],
   "source": [
    "\n",
    "\n",
    "df = pd.concat([df1, df2, df3], ignore_index=True)\n",
    "\n"
   ]
  },
  {
   "cell_type": "code",
   "execution_count": 3,
   "metadata": {},
   "outputs": [
    {
     "name": "stdout",
     "output_type": "stream",
     "text": [
      "                                  image_name           category  \\\n",
      "0       image_874729307_product_74244625.jpg          PC Gaming   \n",
      "1       image_874730792_product_49132716.jpg           Nintendo   \n",
      "2       image_874731199_product_74093483.jpg        PlayStation   \n",
      "3       image_874731370_product_49948298.jpg           Nintendo   \n",
      "4      image_881487935_product_126111824.jpg           Nintendo   \n",
      "..                                       ...                ...   \n",
      "346  image_1100063096_product_1711731907.jpg          PC Gaming   \n",
      "347  image_1100063685_product_1711736000.jpg          PC Gaming   \n",
      "348  image_1100064358_product_1711734478.jpg          PC Gaming   \n",
      "349  image_1119523636_product_2000192031.jpg  Réalité Virtuelle   \n",
      "350  image_1139162966_product_2379124886.jpg           Nintendo   \n",
      "\n",
      "               subcategory  \n",
      "0                  Jeux PC  \n",
      "1    Jeux Game Boy Advance  \n",
      "2                 Jeux PS3  \n",
      "3    Jeux Game Boy Advance  \n",
      "4         Jeux Nintendo DS  \n",
      "..                     ...  \n",
      "346                Jeux PC  \n",
      "347                Jeux PC  \n",
      "348                Jeux PC  \n",
      "349             Jeux VR PC  \n",
      "350       Jeux Nintendo DS  \n",
      "\n",
      "[351 rows x 3 columns]\n"
     ]
    }
   ],
   "source": [
    "print(df)"
   ]
  },
  {
   "cell_type": "code",
   "execution_count": 5,
   "metadata": {},
   "outputs": [],
   "source": [
    "image_dir = \"batchs_équilibrés\\\\batch_entrainement - Copie\\\\\"\n"
   ]
  },
  {
   "cell_type": "code",
   "execution_count": 6,
   "metadata": {},
   "outputs": [],
   "source": [
    "import os\n",
    "\n",
    "# Liste de toutes les images du dossier\n",
    "all_images = set(os.listdir(image_dir))  # Utilisation d'un set pour une recherche rapide\n"
   ]
  },
  {
   "cell_type": "code",
   "execution_count": 7,
   "metadata": {},
   "outputs": [
    {
     "name": "stdout",
     "output_type": "stream",
     "text": [
      "📸 266 images valides trouvées sur 351 attendues.\n"
     ]
    }
   ],
   "source": [
    "# Liste des images attendues selon le DataFrame\n",
    "expected_images = set(df['image_name'].astype(str))  # Convertir en set pour optimisation\n",
    "\n",
    "# Filtrer les images existantes\n",
    "valid_images = expected_images.intersection(all_images)  # Conserver uniquement celles qui existent\n",
    "\n",
    "print(f\"📸 {len(valid_images)} images valides trouvées sur {len(expected_images)} attendues.\")\n"
   ]
  },
  {
   "cell_type": "code",
   "execution_count": 8,
   "metadata": {},
   "outputs": [
    {
     "name": "stdout",
     "output_type": "stream",
     "text": [
      "🗑️ Image supprimée : image_1160912325_product_2726077368.jpg\n",
      "🗑️ Image supprimée : image_1236934329_product_3716121060.jpg\n",
      "🗑️ Image supprimée : image_1199617908_product_3233258914.jpg\n",
      "🗑️ Image supprimée : image_1100081873_product_1711736649.jpg\n",
      "🗑️ Image supprimée : image_1168313731_product_2856775404.jpg\n",
      "🗑️ Image supprimée : image_1100066257_product_1711735869.jpg\n",
      "🗑️ Image supprimée : image_966604797_product_252504330.jpg\n",
      "🗑️ Image supprimée : image_1108737984_product_1878218298.jpg\n",
      "🗑️ Image supprimée : image_1100076852_product_1711728854.jpg\n",
      "🗑️ Image supprimée : image_1100065974_product_1711736557.jpg\n",
      "🗑️ Image supprimée : image_1236934931_product_3716121410.jpg\n",
      "🗑️ Image supprimée : image_1100062722_product_1711729209.jpg\n",
      "🗑️ Image supprimée : image_1176954743_product_2965041516.jpg\n",
      "🗑️ Image supprimée : image_1240554261_product_3748316863.jpg\n",
      "🗑️ Image supprimée : image_1100066292_product_1711728922.jpg\n",
      "🗑️ Image supprimée : image_927527365_product_180498882.jpg\n",
      "🗑️ Image supprimée : image_1100065101_product_1711733299.jpg\n",
      "🗑️ Image supprimée : image_1301143063_product_4150865160.jpg\n",
      "🗑️ Image supprimée : image_1100081963_product_1711731563.jpg\n",
      "🗑️ Image supprimée : image_1100069166_product_1711734525.jpg\n",
      "🗑️ Image supprimée : image_1280048988_product_4042765839.jpg\n",
      "🗑️ Image supprimée : image_939405656_product_161987876.jpg\n",
      "🗑️ Image supprimée : image_1102674938_product_1805032545.jpg\n",
      "🗑️ Image supprimée : image_1053259382_product_1028931562.jpg\n",
      "🗑️ Image supprimée : image_1058972548_product_1089685811.jpg\n",
      "🗑️ Image supprimée : image_1234808632_product_3690853420.jpg\n",
      "🗑️ Image supprimée : image_1231976657_product_3656477301.jpg\n",
      "🗑️ Image supprimée : image_1100071411_product_1711730412.jpg\n",
      "🗑️ Image supprimée : image_1100077500_product_1711734807.jpg\n",
      "🗑️ Image supprimée : image_1100064150_product_1711734470.jpg\n",
      "🗑️ Image supprimée : image_971371809_product_262041682.jpg\n",
      "🗑️ Image supprimée : image_1132983863_product_2240360521.jpg\n",
      "🗑️ Image supprimée : image_1196604463_product_3108206564.jpg\n",
      "🗑️ Image supprimée : image_1100068625_product_1711735034.jpg\n",
      "🗑️ Image supprimée : image_971767481_product_263291107.jpg\n",
      "🗑️ Image supprimée : image_1100066237_product_1711735656.jpg\n",
      "🗑️ Image supprimée : image_1236935361_product_3716121933.jpg\n",
      "🗑️ Image supprimée : image_1152030349_product_2596981190.jpg\n",
      "🗑️ Image supprimée : image_1100081021_product_1711736636.jpg\n",
      "🗑️ Image supprimée : image_1146981061_product_2527236596.jpg\n",
      "🗑️ Image supprimée : image_1100070218_product_1711734642.jpg\n",
      "🗑️ Image supprimée : image_1100070334_product_1711733251.jpg\n",
      "🗑️ Image supprimée : image_846909214_product_76281501.jpg\n",
      "🗑️ Image supprimée : image_1049879107_product_957011147.jpg\n",
      "🗑️ Image supprimée : image_1133950997_product_2034871712.jpg\n",
      "🗑️ Image supprimée : image_1100065729_product_1711730415.jpg\n",
      "🗑️ Image supprimée : image_1100085244_product_1711736828.jpg\n",
      "🗑️ Image supprimée : image_1108738842_product_1878218230.jpg\n",
      "🗑️ Image supprimée : image_1100083741_product_1711736282.jpg\n",
      "🗑️ Image supprimée : image_939983893_product_203224746.jpg\n",
      "🗑️ Image supprimée : image_1100086947_product_1711736338.jpg\n",
      "🗑️ Image supprimée : image_1110810102_product_1904422813.jpg\n",
      "🗑️ Image supprimée : image_1183024584_product_3010870346.jpg\n",
      "🗑️ Image supprimée : image_1141465108_product_2432859218.jpg\n",
      "🗑️ Image supprimée : image_1108365418_product_1875756849.jpg\n",
      "🗑️ Image supprimée : image_1108215009_product_1871867473.jpg\n",
      "🗑️ Image supprimée : image_1115683575_product_1949003999.jpg\n",
      "🗑️ Image supprimée : image_1225786777_product_3592267416.jpg\n",
      "🗑️ Image supprimée : image_1100077520_product_1711736784.jpg\n",
      "🗑️ Image supprimée : image_910951795_product_155227143.jpg\n",
      "🗑️ Image supprimée : image_1268253920_product_1585204775.jpg\n",
      "🗑️ Image supprimée : image_1100076669_product_1711736594.jpg\n",
      "🗑️ Image supprimée : image_1108738672_product_1878218172.jpg\n",
      "🗑️ Image supprimée : image_1236934770_product_3716121141.jpg\n",
      "🗑️ Image supprimée : image_1132925383_product_2237358098.jpg\n",
      "🗑️ Image supprimée : image_1100077574_product_1711735833.jpg\n",
      "🗑️ Image supprimée : image_1100076011_product_1711736387.jpg\n",
      "🗑️ Image supprimée : image_1108316109_product_1874931038.jpg\n",
      "🗑️ Image supprimée : image_1132983627_product_2240360476.jpg\n",
      "🗑️ Image supprimée : image_1247153473_product_3805769836.jpg\n",
      "🗑️ Image supprimée : image_1187911797_product_3058415833.jpg\n",
      "🗑️ Image supprimée : image_1100066842_product_1711728920.jpg\n",
      "🗑️ Image supprimée : image_1100066810_product_1711736554.jpg\n",
      "🗑️ Image supprimée : image_1132983697_product_2240360489.jpg\n",
      "🗑️ Image supprimée : image_1100082443_product_1711730037.jpg\n",
      "🗑️ Image supprimée : image_1134177075_product_2275732341.jpg\n",
      "🗑️ Image supprimée : image_476359610_product_1853453.jpg\n",
      "🗑️ Image supprimée : image_1100073107_product_1711735590.jpg\n",
      "🗑️ Image supprimée : image_1108365425_product_1875804608.jpg\n",
      "🗑️ Image supprimée : image_1100081308_product_1711735062.jpg\n",
      "🗑️ Image supprimée : image_1236934944_product_3716121425.jpg\n",
      "🗑️ Image supprimée : image_1315355210_product_4205293139.jpg\n",
      "🗑️ Image supprimée : image_1100077047_product_1711736577.jpg\n",
      "🗑️ Image supprimée : image_1215651393_product_3471354509.jpg\n",
      "🗑️ Image supprimée : image_973125188_product_267898588.jpg\n"
     ]
    }
   ],
   "source": [
    "for img in all_images - valid_images:  # Différence des ensembles\n",
    "    img_path = os.path.join(image_dir, img)\n",
    "    os.remove(img_path)\n",
    "    print(f\"🗑️ Image supprimée : {img}\")\n"
   ]
  },
  {
   "cell_type": "code",
   "execution_count": 10,
   "metadata": {},
   "outputs": [],
   "source": [
    "import tensorflow as tf\n",
    "from sklearn.preprocessing import LabelEncoder\n",
    "label_encoder = LabelEncoder()\n",
    "df['category_encoded'] = label_encoder.fit_transform(df['category'])\n",
    "\n",
    "def load_image(img_name, label):\n",
    "    try:\n",
    "        # Utiliser tf.py_function pour s'assurer que l'on travaille avec une chaîne et non un tenseur\n",
    "        img_name_str = tf.py_function(lambda x: x.numpy().decode('utf-8'), [img_name], Tout=tf.string)\n",
    "\n",
    "        img_path = tf.strings.join([image_dir, img_name_str])  # Construire le chemin complet\n",
    "        img = tf.io.read_file(img_path)  # Lire l'image\n",
    "        img = tf.image.decode_jpeg(img, channels=3)  # Décoder l'image\n",
    "        img = tf.image.resize(img, [224, 224])  # Redimensionner l'image\n",
    "        img = img / 255.0  # Normaliser l'image\n",
    "        return img, label\n",
    "\n",
    "    except Exception as e:\n",
    "        print(f\"Erreur lors du chargement de l'image {img_name}: {e}\")\n",
    "        return tf.zeros([224, 224, 3]), label  # Retourner une image vide au lieu de None"
   ]
  },
  {
   "cell_type": "code",
   "execution_count": 11,
   "metadata": {},
   "outputs": [],
   "source": [
    "# Ne garder que les noms d'images qui existent physiquement\n",
    "df_filtered = df[df['image_name'].isin(valid_images)]\n",
    "\n",
    "# Convertir en TensorFlow Dataset\n",
    "image_names = df_filtered[\"image_name\"].values\n",
    "labels = df_filtered[\"category_encoded\"].values\n",
    "\n",
    "dataset = tf.data.Dataset.from_tensor_slices((image_names, labels))\n",
    "dataset = dataset.map(lambda x, y: load_image(x, y), num_parallel_calls=tf.data.experimental.AUTOTUNE)\n"
   ]
  },
  {
   "cell_type": "code",
   "execution_count": 13,
   "metadata": {},
   "outputs": [
    {
     "ename": "UnicodeDecodeError",
     "evalue": "'utf-8' codec can't decode byte 0xe9 in position 192: invalid continuation byte",
     "output_type": "error",
     "traceback": [
      "\u001b[1;31m---------------------------------------------------------------------------\u001b[0m",
      "\u001b[1;31mUnicodeDecodeError\u001b[0m                        Traceback (most recent call last)",
      "Cell \u001b[1;32mIn[13], line 27\u001b[0m\n\u001b[0;32m     24\u001b[0m \u001b[38;5;66;03m# Compiler et tester l'entraînement avec un modèle plus simple\u001b[39;00m\n\u001b[0;32m     25\u001b[0m model\u001b[38;5;241m.\u001b[39mcompile(optimizer\u001b[38;5;241m=\u001b[39m\u001b[38;5;124m'\u001b[39m\u001b[38;5;124madam\u001b[39m\u001b[38;5;124m'\u001b[39m, loss\u001b[38;5;241m=\u001b[39m\u001b[38;5;124m'\u001b[39m\u001b[38;5;124msparse_categorical_crossentropy\u001b[39m\u001b[38;5;124m'\u001b[39m, metrics\u001b[38;5;241m=\u001b[39m[\u001b[38;5;124m'\u001b[39m\u001b[38;5;124maccuracy\u001b[39m\u001b[38;5;124m'\u001b[39m])\n\u001b[1;32m---> 27\u001b[0m history \u001b[38;5;241m=\u001b[39m \u001b[43mmodel\u001b[49m\u001b[38;5;241;43m.\u001b[39;49m\u001b[43mfit\u001b[49m\u001b[43m(\u001b[49m\u001b[43mdataset\u001b[49m\u001b[43m,\u001b[49m\u001b[43m \u001b[49m\u001b[43mepochs\u001b[49m\u001b[38;5;241;43m=\u001b[39;49m\u001b[38;5;241;43m1\u001b[39;49m\u001b[43m)\u001b[49m\n",
      "File \u001b[1;32m~\\AppData\\Local\\Packages\\PythonSoftwareFoundation.Python.3.11_qbz5n2kfra8p0\\LocalCache\\local-packages\\Python311\\site-packages\\keras\\utils\\traceback_utils.py:70\u001b[0m, in \u001b[0;36mfilter_traceback.<locals>.error_handler\u001b[1;34m(*args, **kwargs)\u001b[0m\n\u001b[0;32m     67\u001b[0m     filtered_tb \u001b[38;5;241m=\u001b[39m _process_traceback_frames(e\u001b[38;5;241m.\u001b[39m__traceback__)\n\u001b[0;32m     68\u001b[0m     \u001b[38;5;66;03m# To get the full stack trace, call:\u001b[39;00m\n\u001b[0;32m     69\u001b[0m     \u001b[38;5;66;03m# `tf.debugging.disable_traceback_filtering()`\u001b[39;00m\n\u001b[1;32m---> 70\u001b[0m     \u001b[38;5;28;01mraise\u001b[39;00m e\u001b[38;5;241m.\u001b[39mwith_traceback(filtered_tb) \u001b[38;5;28;01mfrom\u001b[39;00m \u001b[38;5;28;01mNone\u001b[39;00m\n\u001b[0;32m     71\u001b[0m \u001b[38;5;28;01mfinally\u001b[39;00m:\n\u001b[0;32m     72\u001b[0m     \u001b[38;5;28;01mdel\u001b[39;00m filtered_tb\n",
      "File \u001b[1;32m~\\AppData\\Local\\Packages\\PythonSoftwareFoundation.Python.3.11_qbz5n2kfra8p0\\LocalCache\\local-packages\\Python311\\site-packages\\tensorflow\\python\\eager\\execute.py:52\u001b[0m, in \u001b[0;36mquick_execute\u001b[1;34m(op_name, num_outputs, inputs, attrs, ctx, name)\u001b[0m\n\u001b[0;32m     50\u001b[0m \u001b[38;5;28;01mtry\u001b[39;00m:\n\u001b[0;32m     51\u001b[0m   ctx\u001b[38;5;241m.\u001b[39mensure_initialized()\n\u001b[1;32m---> 52\u001b[0m   tensors \u001b[38;5;241m=\u001b[39m pywrap_tfe\u001b[38;5;241m.\u001b[39mTFE_Py_Execute(ctx\u001b[38;5;241m.\u001b[39m_handle, device_name, op_name,\n\u001b[0;32m     53\u001b[0m                                       inputs, attrs, num_outputs)\n\u001b[0;32m     54\u001b[0m \u001b[38;5;28;01mexcept\u001b[39;00m core\u001b[38;5;241m.\u001b[39m_NotOkStatusException \u001b[38;5;28;01mas\u001b[39;00m e:\n\u001b[0;32m     55\u001b[0m   \u001b[38;5;28;01mif\u001b[39;00m name \u001b[38;5;129;01mis\u001b[39;00m \u001b[38;5;129;01mnot\u001b[39;00m \u001b[38;5;28;01mNone\u001b[39;00m:\n",
      "\u001b[1;31mUnicodeDecodeError\u001b[0m: 'utf-8' codec can't decode byte 0xe9 in position 192: invalid continuation byte"
     ]
    }
   ],
   "source": [
    "import numpy as np\n",
    "\n",
    "# Convertir les noms d'images et labels en TensorFlow Dataset\n",
    "image_names = df[\"image_name\"].values\n",
    "labels = df[\"category_encoded\"].values\n",
    "\n",
    "# Créer un dataset TensorFlow à partir des chemins d'images et des labels\n",
    "dataset = tf.data.Dataset.from_tensor_slices((image_names, labels))\n",
    "\n",
    "# Appliquer la fonction de chargement d'image et label avec map\n",
    "dataset = dataset.map(lambda x, y: load_image(x, y))\n",
    "\n",
    "# Diviser en batchs, mélanger et pré-charger pour améliorer les performances\n",
    "dataset = dataset.batch(32).shuffle(1000).prefetch(tf.data.experimental.AUTOTUNE)\n",
    "\n",
    "# Modèle simplifié pour tester\n",
    "model = tf.keras.Sequential([\n",
    "    tf.keras.layers.Conv2D(16, (3, 3), activation='relu', input_shape=(224, 224, 3)),\n",
    "    tf.keras.layers.MaxPooling2D(),\n",
    "    tf.keras.layers.Flatten(),\n",
    "    tf.keras.layers.Dense(len(np.unique(labels)), activation='softmax')\n",
    "])\n",
    "\n",
    "# Compiler et tester l'entraînement avec un modèle plus simple\n",
    "model.compile(optimizer='adam', loss='sparse_categorical_crossentropy', metrics=['accuracy'])\n",
    "\n",
    "history = model.fit(dataset, epochs=1)"
   ]
  },
  {
   "cell_type": "code",
   "execution_count": 14,
   "metadata": {},
   "outputs": [
    {
     "name": "stdout",
     "output_type": "stream",
     "text": [
      "0     image_874729307_product_74244625.jpg\n",
      "1     image_874730792_product_49132716.jpg\n",
      "2     image_874731199_product_74093483.jpg\n",
      "3     image_874731370_product_49948298.jpg\n",
      "4    image_881487935_product_126111824.jpg\n",
      "Name: image_name, dtype: object\n"
     ]
    }
   ],
   "source": [
    "# Afficher les premières lignes pour vérifier les noms d'images\n",
    "print(df['image_name'].head())\n",
    "\n",
    "\n",
    "# Vérifier les noms d'images pour des caractères spéciaux ou invisibles\n",
    "for name in df['image_name']:\n",
    "    try:\n",
    "        name = str(name).encode('utf-8', 'ignore').decode('utf-8', 'ignore')\n",
    "    except UnicodeDecodeError:\n",
    "        print(f\"Erreur avec le nom de fichier : {name}\")\n"
   ]
  }
 ],
 "metadata": {
  "kernelspec": {
   "display_name": "Python 3",
   "language": "python",
   "name": "python3"
  },
  "language_info": {
   "codemirror_mode": {
    "name": "ipython",
    "version": 3
   },
   "file_extension": ".py",
   "mimetype": "text/x-python",
   "name": "python",
   "nbconvert_exporter": "python",
   "pygments_lexer": "ipython3",
   "version": "3.11.9"
  }
 },
 "nbformat": 4,
 "nbformat_minor": 2
}
